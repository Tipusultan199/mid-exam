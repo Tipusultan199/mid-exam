{
  "nbformat": 4,
  "nbformat_minor": 0,
  "metadata": {
    "colab": {
      "provenance": []
    },
    "kernelspec": {
      "name": "python3",
      "display_name": "Python 3"
    },
    "language_info": {
      "name": "python"
    }
  },
  "cells": [
    {
      "cell_type": "code",
      "execution_count": 10,
      "metadata": {
        "colab": {
          "base_uri": "https://localhost:8080/"
        },
        "id": "heDcWrtzLvvE",
        "outputId": "ad94a1d9-d454-4ae9-c9d2-d5dc530f3758"
      },
      "outputs": [
        {
          "output_type": "stream",
          "name": "stdout",
          "text": [
            "Determinant of R: 0.9999999999999999\n",
            "The matrix is a valid rotation matrix (determinant is 1).\n",
            "R^T * R:\n",
            "[[1.00000000e+00 1.11022302e-16 0.00000000e+00]\n",
            " [1.11022302e-16 1.00000000e+00 0.00000000e+00]\n",
            " [0.00000000e+00 0.00000000e+00 1.00000000e+00]]\n",
            "The matrix is a valid rotation matrix (R^T * R = I).\n",
            "beta = 0.7853981633974484 radians or 45.00000000000001 degrees\n",
            "alpha = 2.356194490192345 radians or 135.0 degrees\n",
            "gamma = 0.0 radians or 0.0 degrees\n",
            "\n",
            "Final ZXZ Euler angles (in radians):\n",
            "alpha = 2.356194490192345\n",
            "beta = 0.7853981633974484\n",
            "gamma = 0.0\n",
            "\n",
            "Final ZXZ Euler angles (in degrees):\n",
            "alpha = 135.0°\n",
            "beta = 45.00000000000001°\n",
            "gamma = 0.0°\n"
          ]
        }
      ],
      "source": [
        "import numpy as np\n",
        "\n",
        "R = np.array([\n",
        "    [-1/np.sqrt(2),  1/np.sqrt(2),  0],\n",
        "    [-1/2,          -1/2,           1/np.sqrt(2)],\n",
        "    [1/2,           1/2,            1/np.sqrt(2)]\n",
        "])\n",
        "\n",
        "det_R = np.linalg.det(R)\n",
        "print(f\"Determinant of R: {det_R}\")\n",
        "if not np.isclose(det_R, 1):\n",
        "    print(\"The matrix is not a valid rotation matrix (determinant is not 1).\")\n",
        "else:\n",
        "    print(\"The matrix is a valid rotation matrix (determinant is 1).\")\n",
        "\n",
        "R_transpose = np.transpose(R)\n",
        "identity_check = np.dot(R_transpose, R)\n",
        "print(f\"R^T * R:\\n{identity_check}\")\n",
        "if not np.allclose(identity_check, np.eye(3)):\n",
        "    print(\"The matrix is not a valid rotation matrix (R^T * R != I).\")\n",
        "else:\n",
        "    print(\"The matrix is a valid rotation matrix (R^T * R = I).\")\n",
        "\n",
        "beta = np.arccos(R[2, 2])\n",
        "print(f\"beta = {beta} radians or {np.degrees(beta)} degrees\")\n",
        "\n",
        "if not np.isclose(np.sin(beta), 0):\n",
        "    alpha = np.arctan2(R[2, 0], -R[2, 1])\n",
        "    print(f\"alpha = {alpha} radians or {np.degrees(alpha)} degrees\")\n",
        "else:\n",
        "    alpha = 0\n",
        "    print(\"Special case: beta is 0 or pi, alpha is set to 0.\")\n",
        "\n",
        "if not np.isclose(np.sin(beta), 0):\n",
        "    gamma = np.arctan2(R[0, 2], R[1, 2])\n",
        "    print(f\"gamma = {gamma} radians or {np.degrees(gamma)} degrees\")\n",
        "else:\n",
        "    gamma = 0\n",
        "    print(\"Special case: beta is 0 or pi, gamma is set to 0.\")\n",
        "\n",
        "print(f\"\\nFinal ZXZ Euler angles (in radians):\")\n",
        "print(f\"alpha = {alpha}\")\n",
        "print(f\"beta = {beta}\")\n",
        "print(f\"gamma = {gamma}\")\n",
        "\n",
        "print(f\"\\nFinal ZXZ Euler angles (in degrees):\")\n",
        "print(f\"alpha = {np.degrees(alpha)}°\")\n",
        "print(f\"beta = {np.degrees(beta)}°\")\n",
        "print(f\"gamma = {np.degrees(gamma)}°\")\n"
      ]
    },
    {
      "cell_type": "code",
      "source": [
        "R"
      ],
      "metadata": {
        "colab": {
          "base_uri": "https://localhost:8080/"
        },
        "id": "m5jn2r7OXHcp",
        "outputId": "91df235f-b0bf-4f5c-9768-5c850723fc3a"
      },
      "execution_count": 9,
      "outputs": [
        {
          "output_type": "execute_result",
          "data": {
            "text/plain": [
              "array([[-0.70710678,  0.70710678,  0.        ],\n",
              "       [-0.5       , -0.5       ,  0.70710678],\n",
              "       [ 0.5       ,  0.5       ,  0.70710678]])"
            ]
          },
          "metadata": {},
          "execution_count": 9
        }
      ]
    }
  ]
}