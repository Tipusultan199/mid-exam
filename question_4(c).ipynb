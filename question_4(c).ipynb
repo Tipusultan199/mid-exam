{
  "nbformat": 4,
  "nbformat_minor": 0,
  "metadata": {
    "colab": {
      "provenance": []
    },
    "kernelspec": {
      "name": "python3",
      "display_name": "Python 3"
    },
    "language_info": {
      "name": "python"
    }
  },
  "cells": [
    {
      "cell_type": "code",
      "execution_count": 3,
      "metadata": {
        "colab": {
          "base_uri": "https://localhost:8080/"
        },
        "id": "tyFnMlIn3x1R",
        "outputId": "6aca9952-fbf6-4cee-e5fb-f30c9e4cfa25"
      },
      "outputs": [
        {
          "output_type": "execute_result",
          "data": {
            "text/plain": [
              "(array([[ 0.        , -0.70710678,  0.70710678],\n",
              "        [-1.        ,  0.        ,  0.        ],\n",
              "        [ 0.        , -0.70710678, -0.70710678]]),\n",
              " array([[ 6.12323400e-17, -7.07106781e-01,  7.07106781e-01],\n",
              "        [-1.00000000e+00, -4.32978028e-17,  4.32978028e-17],\n",
              "        [ 0.00000000e+00, -7.07106781e-01, -7.07106781e-01]]))"
            ]
          },
          "metadata": {},
          "execution_count": 3
        }
      ],
      "source": [
        "import numpy as np\n",
        "\n",
        "# Define the angles in radians\n",
        "theta_x_45 = -np.pi / 4  # -45 degrees\n",
        "theta_x_135 = -3 * np.pi / 4  # -135 degrees\n",
        "theta_z_90 = -np.pi / 2  # -90 degrees\n",
        "\n",
        "# Rotation matrix about x-axis\n",
        "def rotation_x(theta):\n",
        "    return np.array([[1, 0, 0],\n",
        "                     [0, np.cos(theta), -np.sin(theta)],\n",
        "                     [0, np.sin(theta), np.cos(theta)]])\n",
        "\n",
        "# Rotation matrix about z-axis\n",
        "def rotation_z(theta):\n",
        "    return np.array([[np.cos(theta), -np.sin(theta), 0],\n",
        "                     [np.sin(theta), np.cos(theta), 0],\n",
        "                     [0, 0, 1]])\n",
        "\n",
        "# Rotation matrix for -45 degrees about the local x-axis\n",
        "R_x_45 = rotation_x(theta_x_45)\n",
        "\n",
        "# Initial orientation after Part 1\n",
        "R_se = np.array([[0, 0, 1],\n",
        "                 [-1, 0, 0],\n",
        "                 [0, -1, 0]])\n",
        "\n",
        "# Final orientation after additional -45 degrees about local x-axis\n",
        "R_final = np.dot(R_se, R_x_45)\n",
        "\n",
        "# Rotation for -135 degrees about the base frame's x-axis\n",
        "R_x_135 = rotation_x(theta_x_135)\n",
        "\n",
        "# Rotation for -90 degrees about the base frame's z-axis\n",
        "R_z_90 = rotation_z(theta_z_90)\n",
        "\n",
        "# Combined rotation for -135 degrees about x and -90 degrees about z\n",
        "R_135z = np.dot(R_z_90, R_x_135)\n",
        "\n",
        "# Output the results\n",
        "R_final, R_135z\n"
      ]
    }
  ]
}