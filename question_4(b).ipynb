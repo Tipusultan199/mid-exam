{
  "nbformat": 4,
  "nbformat_minor": 0,
  "metadata": {
    "colab": {
      "provenance": []
    },
    "kernelspec": {
      "name": "python3",
      "display_name": "Python 3"
    },
    "language_info": {
      "name": "python"
    }
  },
  "cells": [
    {
      "cell_type": "code",
      "execution_count": 2,
      "metadata": {
        "colab": {
          "base_uri": "https://localhost:8080/"
        },
        "id": "tyFnMlIn3x1R",
        "outputId": "98338293-c479-4a44-ef44-f22792c6d427"
      },
      "outputs": [
        {
          "output_type": "execute_result",
          "data": {
            "text/plain": [
              "array([[ 0.70710678, -0.70710678,  0.        ],\n",
              "       [ 0.70710678,  0.70710678,  0.        ],\n",
              "       [ 0.        ,  0.        ,  1.        ]])"
            ]
          },
          "metadata": {},
          "execution_count": 2
        }
      ],
      "source": [
        "import numpy as np\n",
        "\n",
        "\n",
        "theta = np.pi / 4\n",
        "\n",
        "\n",
        "R_z_45 = np.array([[np.cos(theta), -np.sin(theta), 0],\n",
        "                   [np.sin(theta), np.cos(theta), 0],\n",
        "                   [0, 0, 1]])\n",
        "\n",
        "\n",
        "R_z_45\n"
      ]
    }
  ]
}