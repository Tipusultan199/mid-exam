{
  "nbformat": 4,
  "nbformat_minor": 0,
  "metadata": {
    "colab": {
      "provenance": []
    },
    "kernelspec": {
      "name": "python3",
      "display_name": "Python 3"
    },
    "language_info": {
      "name": "python"
    }
  },
  "cells": [
    {
      "cell_type": "code",
      "execution_count": 2,
      "metadata": {
        "colab": {
          "base_uri": "https://localhost:8080/"
        },
        "id": "heDcWrtzLvvE",
        "outputId": "f3d7def3-16a2-42c5-ab10-143b75aa90f7"
      },
      "outputs": [
        {
          "output_type": "stream",
          "name": "stdout",
          "text": [
            "⎡-sin(α)⋅sin(γ)⋅cos(β) + cos(α)⋅cos(γ)  -sin(α)⋅cos(β)⋅cos(γ) - sin(γ)⋅cos(α)  sin(α)⋅sin(β) ⎤\n",
            "⎢                                                                                            ⎥\n",
            "⎢sin(α)⋅cos(γ) + sin(γ)⋅cos(α)⋅cos(β)   -sin(α)⋅sin(γ) + cos(α)⋅cos(β)⋅cos(γ)  -sin(β)⋅cos(α)⎥\n",
            "⎢                                                                                            ⎥\n",
            "⎣            sin(β)⋅sin(γ)                          sin(β)⋅cos(γ)                  cos(β)    ⎦\n"
          ]
        }
      ],
      "source": [
        "import sympy as sp\n",
        "\n",
        "alpha, beta, gamma = sp.symbols('alpha beta gamma')\n",
        "\n",
        "\n",
        "Rz_alpha = sp.Matrix([\n",
        "    [sp.cos(alpha), -sp.sin(alpha), 0],\n",
        "    [sp.sin(alpha), sp.cos(alpha), 0],\n",
        "    [0, 0, 1]\n",
        "])\n",
        "\n",
        "Rx_beta = sp.Matrix([\n",
        "    [1, 0, 0],\n",
        "    [0, sp.cos(beta), -sp.sin(beta)],\n",
        "    [0, sp.sin(beta), sp.cos(beta)]\n",
        "])\n",
        "\n",
        "Rz_gamma = sp.Matrix([\n",
        "    [sp.cos(gamma), -sp.sin(gamma), 0],\n",
        "    [sp.sin(gamma), sp.cos(gamma), 0],\n",
        "    [0, 0, 1]\n",
        "])\n",
        "\n",
        "\n",
        "R_full = Rz_alpha * Rx_beta * Rz_gamma\n",
        "\n",
        "sp.pprint(R_full)\n"
      ]
    },
    {
      "cell_type": "code",
      "source": [
        "Rz_alpha"
      ],
      "metadata": {
        "colab": {
          "base_uri": "https://localhost:8080/",
          "height": 78
        },
        "id": "zTsELRslL910",
        "outputId": "4da01e38-c52c-47c7-a4ed-40662adebf5e"
      },
      "execution_count": 3,
      "outputs": [
        {
          "output_type": "execute_result",
          "data": {
            "text/plain": [
              "Matrix([\n",
              "[cos(alpha), -sin(alpha), 0],\n",
              "[sin(alpha),  cos(alpha), 0],\n",
              "[         0,           0, 1]])"
            ],
            "text/latex": "$\\displaystyle \\left[\\begin{matrix}\\cos{\\left(\\alpha \\right)} & - \\sin{\\left(\\alpha \\right)} & 0\\\\\\sin{\\left(\\alpha \\right)} & \\cos{\\left(\\alpha \\right)} & 0\\\\0 & 0 & 1\\end{matrix}\\right]$"
          },
          "metadata": {},
          "execution_count": 3
        }
      ]
    },
    {
      "cell_type": "code",
      "source": [
        "Rx_beta"
      ],
      "metadata": {
        "colab": {
          "base_uri": "https://localhost:8080/",
          "height": 78
        },
        "id": "XQ7hmxrWMC2U",
        "outputId": "827ed020-db90-4785-ca85-b6694df844f2"
      },
      "execution_count": 4,
      "outputs": [
        {
          "output_type": "execute_result",
          "data": {
            "text/plain": [
              "Matrix([\n",
              "[1,         0,          0],\n",
              "[0, cos(beta), -sin(beta)],\n",
              "[0, sin(beta),  cos(beta)]])"
            ],
            "text/latex": "$\\displaystyle \\left[\\begin{matrix}1 & 0 & 0\\\\0 & \\cos{\\left(\\beta \\right)} & - \\sin{\\left(\\beta \\right)}\\\\0 & \\sin{\\left(\\beta \\right)} & \\cos{\\left(\\beta \\right)}\\end{matrix}\\right]$"
          },
          "metadata": {},
          "execution_count": 4
        }
      ]
    },
    {
      "cell_type": "code",
      "source": [
        "Rz_gamma"
      ],
      "metadata": {
        "colab": {
          "base_uri": "https://localhost:8080/",
          "height": 78
        },
        "id": "73PR4M6CME7U",
        "outputId": "53699f05-36eb-4587-e1cb-db457dc98877"
      },
      "execution_count": 5,
      "outputs": [
        {
          "output_type": "execute_result",
          "data": {
            "text/plain": [
              "Matrix([\n",
              "[cos(gamma), -sin(gamma), 0],\n",
              "[sin(gamma),  cos(gamma), 0],\n",
              "[         0,           0, 1]])"
            ],
            "text/latex": "$\\displaystyle \\left[\\begin{matrix}\\cos{\\left(\\gamma \\right)} & - \\sin{\\left(\\gamma \\right)} & 0\\\\\\sin{\\left(\\gamma \\right)} & \\cos{\\left(\\gamma \\right)} & 0\\\\0 & 0 & 1\\end{matrix}\\right]$"
          },
          "metadata": {},
          "execution_count": 5
        }
      ]
    },
    {
      "cell_type": "code",
      "source": [
        "import sympy as sp\n",
        "\n",
        "\n",
        "alpha, beta, gamma = sp.symbols('alpha beta gamma')\n",
        "\n",
        "y\n",
        "Rz_alpha = sp.Matrix([\n",
        "    [sp.cos(alpha), -sp.sin(alpha), 0],\n",
        "    [sp.sin(alpha), sp.cos(alpha), 0],\n",
        "    [0, 0, 1]\n",
        "])\n",
        "\n",
        "Rx_beta = sp.Matrix([\n",
        "    [1, 0, 0],\n",
        "    [0, sp.cos(beta), -sp.sin(beta)],\n",
        "    [0, sp.sin(beta), sp.cos(beta)]\n",
        "])\n",
        "\n",
        "Rz_gamma = sp.Matrix([\n",
        "    [sp.cos(gamma), -sp.sin(gamma), 0],\n",
        "    [sp.sin(gamma), sp.cos(gamma), 0],\n",
        "    [0, 0, 1]\n",
        "])\n",
        "\n",
        "\n",
        "R_full = Rz_alpha * Rx_beta * Rz_gamma\n",
        "\n",
        "R11, R12, R13 = R_full[0, 0], R_full[0, 1], R_full[0, 2]\n",
        "R21, R22, R23 = R_full[1, 0], R_full[1, 1], R_full[1, 2]\n",
        "R31, R32, R33 = R_full[2, 0], R_full[2, 1], R_full[2, 2]\n",
        "\n",
        "\n",
        "beta_expr = sp.acos(R33)\n",
        "\n",
        "\n",
        "\n",
        "\n",
        "alpha_expr = sp.atan2(R31, -R32)\n",
        "\n",
        "gamma_expr = sp.atan2(R13, R23)\n",
        "\n",
        "sp.pprint(sp.Eq(sp.Symbol('beta'), beta_expr))\n",
        "sp.pprint(sp.Eq(sp.Symbol('alpha'), alpha_expr))\n",
        "sp.pprint(sp.Eq(sp.Symbol('gamma'), gamma_expr))\n"
      ],
      "metadata": {
        "colab": {
          "base_uri": "https://localhost:8080/"
        },
        "id": "wXp74XZaSBbK",
        "outputId": "ac529b0e-fcc1-45ca-cac0-394556d53482"
      },
      "execution_count": 7,
      "outputs": [
        {
          "output_type": "stream",
          "name": "stdout",
          "text": [
            "β = acos(cos(β))\n",
            "α = atan2(sin(β)⋅sin(γ), -sin(β)⋅cos(γ))\n",
            "γ = atan2(sin(α)⋅sin(β), -sin(β)⋅cos(α))\n"
          ]
        }
      ]
    }
  ]
}